{
  "nbformat": 4,
  "nbformat_minor": 0,
  "metadata": {
    "colab": {
      "provenance": [],
      "mount_file_id": "1kSeZKxdcsJIZHK91opQFIdO0pZ8TDIA0",
      "authorship_tag": "ABX9TyPDtgGdNOP4kuBBpGWrJHwx",
      "include_colab_link": true
    },
    "kernelspec": {
      "name": "python3",
      "display_name": "Python 3"
    },
    "language_info": {
      "name": "python"
    }
  },
  "cells": [
    {
      "cell_type": "markdown",
      "metadata": {
        "id": "view-in-github",
        "colab_type": "text"
      },
      "source": [
        "<a href=\"https://colab.research.google.com/github/haysho2260/466finalProject/blob/main/KNN_model.ipynb\" target=\"_parent\"><img src=\"https://colab.research.google.com/assets/colab-badge.svg\" alt=\"Open In Colab\"/></a>"
      ]
    },
    {
      "cell_type": "code",
      "execution_count": 15,
      "metadata": {
        "id": "7F1A1eU3_d5i"
      },
      "outputs": [],
      "source": [
        "from google.colab import drive\n",
        "import pandas as pd\n",
        "import zipfile\n",
        "import requests\n",
        "from io import BytesIO\n",
        "import numpy as np\n",
        "import matplotlib.pyplot as plt"
      ]
    },
    {
      "cell_type": "markdown",
      "source": [
        "## Cleaning the Dataset"
      ],
      "metadata": {
        "id": "vSKNz0kFrLyb"
      }
    },
    {
      "cell_type": "markdown",
      "source": [
        "This is getting the dataset from Pablo Deplon's github."
      ],
      "metadata": {
        "id": "O89fBV-RrRa7"
      }
    },
    {
      "cell_type": "code",
      "source": [
        "df_features = pd.read_csv('https://media.githubusercontent.com/media/PabloBelloDelpon/Spotify_paper/master/spotify_features_data.csv', delimiter='\\t')\n",
        "df_features[\"date\"] = df_features[\"date\"].str.split(\"-\").str[0]\n",
        "df_features.columns\n",
        "df_features.rename(columns={\"country\": \"Country\", \"date\":\"Year\"}, inplace=True)\n",
        "df_feat_grouped = df_features.groupby([\"Country\", \"Year\"])[[\"track_danceability\", \"track_energy\",\n",
        "  \"track_key\", \"track_loudness\", \"track_mode\", \"track_speechiness\",\n",
        "  \"track_acousticness\", \"track_instrumentalness\", \"track_liveness\",\n",
        "  \"track_valence\", \"track_tempo\", \"track_duration_ms\"]].mean()\n",
        "df_feat_grouped.reset_index(inplace=True)"
      ],
      "metadata": {
        "id": "2Rsnt7bHAS-B"
      },
      "execution_count": 2,
      "outputs": []
    },
    {
      "cell_type": "code",
      "source": [
        "# response = requests.get(\"https://github.com/PabloBelloDelpon/Spotify_paper/raw/master/itunes_data.csv.zip\")\n",
        "# with zipfile.ZipFile(BytesIO(response.content)) as z:\n",
        "#   # Extract the CSV file\n",
        "#   csv_filename = z.namelist()[0]\n",
        "#   with z.open(csv_filename) as f:\n",
        "#       # Read the CSV file into a DataFrame\n",
        "#       df_itunes = pd.read_csv(f)\n",
        "# df_itunes"
      ],
      "metadata": {
        "id": "pc4SjNlXNLY0"
      },
      "execution_count": 3,
      "outputs": []
    },
    {
      "cell_type": "code",
      "source": [
        "# response = requests.get(\"https://github.com/PabloBelloDelpon/Spotify_paper/raw/master/spotify_data.csv.zip\")\n",
        "# with zipfile.ZipFile(BytesIO(response.content)) as z:\n",
        "#   # Extract the CSV file\n",
        "#   csv_filename = z.namelist()[0]\n",
        "#   with z.open(csv_filename) as f:\n",
        "#       # Read the CSV file into a DataFrame\n",
        "#       df_spotify = pd.read_csv(f)\n",
        "# df_spotify = df_spotify[[\"country\", \"date\", \"artist\", \"track_id\"]]"
      ],
      "metadata": {
        "id": "hzeymQndOG21"
      },
      "execution_count": 4,
      "outputs": []
    },
    {
      "cell_type": "markdown",
      "source": [
        "This is getting the dataset that I uploaded to Github from the World Bank."
      ],
      "metadata": {
        "id": "DmETVnUZrg8C"
      }
    },
    {
      "cell_type": "code",
      "source": [
        "df_gdp = pd.read_csv(\"https://github.com/haysho2260/466finalProject/raw/main/gdp_dataset.csv\")\n",
        "years = [\"2017\", \"2018\", \"2019\", \"2020\"]\n",
        "df_gdp_stac = pd.DataFrame()\n",
        "for y in years:\n",
        "  print()\n",
        "  temp = df_gdp[[\"Country Name\", y]]\n",
        "  temp.rename(columns={y: \"GDP\", \"Country Name\": \"Country\"}, inplace=True)\n",
        "  temp[\"Year\"] = y\n",
        "  df_gdp_stac = df_gdp_stac.append (temp, ignore_index=True)"
      ],
      "metadata": {
        "id": "aOI0lRmZOmZR"
      },
      "execution_count": null,
      "outputs": []
    },
    {
      "cell_type": "markdown",
      "source": [
        "This merges the gdp into the main music features dataset."
      ],
      "metadata": {
        "id": "1nPiUGHJrowq"
      }
    },
    {
      "cell_type": "code",
      "source": [
        "df_merged = df_feat_grouped.merge(df_gdp_stac, on=[\"Country\", \"Year\"], how=\"inner\")\n"
      ],
      "metadata": {
        "id": "DreUh5eto5nD"
      },
      "execution_count": 6,
      "outputs": []
    },
    {
      "cell_type": "markdown",
      "source": [
        "## Finding the best features for KNN\n",
        "\n"
      ],
      "metadata": {
        "id": "xBmvOUKrhPMW"
      }
    },
    {
      "cell_type": "markdown",
      "source": [
        "Initially we are training the model with the full dataset"
      ],
      "metadata": {
        "id": "jqln75-ShS8X"
      }
    },
    {
      "cell_type": "code",
      "source": [
        "X_train = df_merged[[\"track_danceability\", \"track_energy\",\n",
        "  \"track_key\", \"track_loudness\", \"track_mode\", \"track_speechiness\",\n",
        "  \"track_acousticness\", \"track_instrumentalness\", \"track_liveness\",\n",
        "  \"track_valence\", \"track_tempo\", \"track_duration_ms\"]]\n",
        "y_train = df_merged[\"GDP\"]"
      ],
      "metadata": {
        "id": "HKaSPbVjtCG6"
      },
      "execution_count": 7,
      "outputs": []
    },
    {
      "cell_type": "markdown",
      "source": [
        "Make a powerset to make all the possible song features"
      ],
      "metadata": {
        "id": "0pMJU1rIhX8A"
      }
    },
    {
      "cell_type": "code",
      "source": [
        "from itertools import chain, combinations\n",
        "\n",
        "def powerset(iterable):\n",
        "    features = list(iterable)\n",
        "    return chain.from_iterable(combinations(features, r) for r in range(len(features)+1))\n",
        "\n",
        "song_features = [\"track_danceability\", \"track_energy\",\n",
        "  \"track_key\", \"track_loudness\", \"track_mode\", \"track_speechiness\",\n",
        "  \"track_acousticness\", \"track_instrumentalness\", \"track_liveness\",\n",
        "  \"track_valence\", \"track_tempo\", \"track_duration_ms\"]\n",
        "\n",
        "# Gets all possible combinations of song features\n",
        "reg_power_set = []\n",
        "for subset in powerset(song_features):\n",
        "    reg_power_set.append(list(subset))\n",
        "\n",
        "reg_power_set = reg_power_set[1:]"
      ],
      "metadata": {
        "id": "svFMCIbkr-fE"
      },
      "execution_count": 8,
      "outputs": []
    },
    {
      "cell_type": "markdown",
      "source": [
        "Run Code to Find the Features that Produce the Lowest MSE in relation to the GDP"
      ],
      "metadata": {
        "id": "E_n79lXZv1Vl"
      }
    },
    {
      "cell_type": "code",
      "source": [
        "from sklearn.preprocessing import StandardScaler, OneHotEncoder\n",
        "from sklearn.neighbors import KNeighborsRegressor\n",
        "from sklearn.pipeline import make_pipeline\n",
        "from sklearn.compose import make_column_transformer\n",
        "from sklearn.model_selection import cross_val_score\n",
        "\n",
        "# define function to calculate estimate of test error for a given feature set\n",
        "def get_cv_error(features, merged_df, X_train, y_train):\n",
        "\n",
        "  ct = make_column_transformer(\n",
        "      (StandardScaler(), features),\n",
        "      remainder=\"drop\"\n",
        "  )\n",
        "\n",
        "  pipeline = make_pipeline(\n",
        "      ct,\n",
        "      KNeighborsRegressor(n_neighbors=5)\n",
        "  )\n",
        "  # errors from cross-validation\n",
        "  cv_errs = -cross_val_score(pipeline, X=X_train[features],\n",
        "                             y=y_train,\n",
        "                             scoring=\"neg_mean_squared_error\", cv=10)\n",
        "  # calculate average of the cross-validation errors\n",
        "  return cv_errs.mean()\n",
        "\n",
        "# calculate and store errors for different feature sets\n",
        "errs = pd.Series()\n",
        "for features in reg_power_set:\n",
        "  errs[str(features)] = get_cv_error(features, df_merged, X_train, y_train)\n"
      ],
      "metadata": {
        "id": "6mlJ1guHsfqQ"
      },
      "execution_count": null,
      "outputs": []
    },
    {
      "cell_type": "markdown",
      "source": [
        "Look at the first of the errors with the smallest value. This will give use the set that results in the most valuable features to look at"
      ],
      "metadata": {
        "id": "B57erD6khf-D"
      }
    },
    {
      "cell_type": "code",
      "source": [
        "errs.sort_values()"
      ],
      "metadata": {
        "id": "vtwZcTLKve-K"
      },
      "execution_count": null,
      "outputs": []
    },
    {
      "cell_type": "code",
      "source": [
        "best_features = ['track_energy', 'track_key', 'track_loudness', 'track_mode', 'track_speechiness', 'track_liveness', 'track_valence', 'track_tempo', 'track_duration_ms']\n",
        "len(best_features)"
      ],
      "metadata": {
        "id": "hfklMddHvwvc",
        "colab": {
          "base_uri": "https://localhost:8080/"
        },
        "outputId": "eb6cd53c-0724-4776-9e25-4bf990583301"
      },
      "execution_count": 32,
      "outputs": [
        {
          "output_type": "execute_result",
          "data": {
            "text/plain": [
              "9"
            ]
          },
          "metadata": {},
          "execution_count": 32
        }
      ]
    },
    {
      "cell_type": "markdown",
      "source": [
        "Find the best k value for nearest neighbors. Make a pipeline to put into gridsearch."
      ],
      "metadata": {
        "id": "zl1TePaSwK6E"
      }
    },
    {
      "cell_type": "code",
      "source": [
        "ct = make_column_transformer(\n",
        "    (StandardScaler(), best_features),\n",
        "    remainder=\"drop\"\n",
        ")\n",
        "pipeline = make_pipeline(\n",
        "    ct,\n",
        "    KNeighborsRegressor(n_neighbors=5)\n",
        ")"
      ],
      "metadata": {
        "id": "Ydn1h_lQwTSE"
      },
      "execution_count": 25,
      "outputs": []
    },
    {
      "cell_type": "code",
      "source": [
        "from sklearn.model_selection import GridSearchCV\n",
        "\n",
        "grid_search = GridSearchCV(pipeline,\n",
        "    param_grid={\n",
        "        \"kneighborsregressor__n_neighbors\": range(1, 13)\n",
        "    },\n",
        "    scoring=\"neg_mean_squared_error\",\n",
        "    cv=3)\n",
        "grid_search.fit(X_train[best_features], y_train)\n",
        "grid_search.best_estimator_\n"
      ],
      "metadata": {
        "colab": {
          "base_uri": "https://localhost:8080/",
          "height": 234
        },
        "id": "7abShbe3wO5Q",
        "outputId": "5149ba1c-d812-4c22-be85-a016b6f90ab0"
      },
      "execution_count": 30,
      "outputs": [
        {
          "output_type": "execute_result",
          "data": {
            "text/plain": [
              "Pipeline(steps=[('columntransformer',\n",
              "                 ColumnTransformer(transformers=[('standardscaler',\n",
              "                                                  StandardScaler(),\n",
              "                                                  ['track_energy', 'track_key',\n",
              "                                                   'track_loudness',\n",
              "                                                   'track_mode',\n",
              "                                                   'track_speechiness',\n",
              "                                                   'track_liveness',\n",
              "                                                   'track_valence',\n",
              "                                                   'track_tempo',\n",
              "                                                   'track_duration_ms'])])),\n",
              "                ('kneighborsregressor', KNeighborsRegressor(n_neighbors=6))])"
            ],
            "text/html": [
              "<style>#sk-container-id-7 {color: black;background-color: white;}#sk-container-id-7 pre{padding: 0;}#sk-container-id-7 div.sk-toggleable {background-color: white;}#sk-container-id-7 label.sk-toggleable__label {cursor: pointer;display: block;width: 100%;margin-bottom: 0;padding: 0.3em;box-sizing: border-box;text-align: center;}#sk-container-id-7 label.sk-toggleable__label-arrow:before {content: \"▸\";float: left;margin-right: 0.25em;color: #696969;}#sk-container-id-7 label.sk-toggleable__label-arrow:hover:before {color: black;}#sk-container-id-7 div.sk-estimator:hover label.sk-toggleable__label-arrow:before {color: black;}#sk-container-id-7 div.sk-toggleable__content {max-height: 0;max-width: 0;overflow: hidden;text-align: left;background-color: #f0f8ff;}#sk-container-id-7 div.sk-toggleable__content pre {margin: 0.2em;color: black;border-radius: 0.25em;background-color: #f0f8ff;}#sk-container-id-7 input.sk-toggleable__control:checked~div.sk-toggleable__content {max-height: 200px;max-width: 100%;overflow: auto;}#sk-container-id-7 input.sk-toggleable__control:checked~label.sk-toggleable__label-arrow:before {content: \"▾\";}#sk-container-id-7 div.sk-estimator input.sk-toggleable__control:checked~label.sk-toggleable__label {background-color: #d4ebff;}#sk-container-id-7 div.sk-label input.sk-toggleable__control:checked~label.sk-toggleable__label {background-color: #d4ebff;}#sk-container-id-7 input.sk-hidden--visually {border: 0;clip: rect(1px 1px 1px 1px);clip: rect(1px, 1px, 1px, 1px);height: 1px;margin: -1px;overflow: hidden;padding: 0;position: absolute;width: 1px;}#sk-container-id-7 div.sk-estimator {font-family: monospace;background-color: #f0f8ff;border: 1px dotted black;border-radius: 0.25em;box-sizing: border-box;margin-bottom: 0.5em;}#sk-container-id-7 div.sk-estimator:hover {background-color: #d4ebff;}#sk-container-id-7 div.sk-parallel-item::after {content: \"\";width: 100%;border-bottom: 1px solid gray;flex-grow: 1;}#sk-container-id-7 div.sk-label:hover label.sk-toggleable__label {background-color: #d4ebff;}#sk-container-id-7 div.sk-serial::before {content: \"\";position: absolute;border-left: 1px solid gray;box-sizing: border-box;top: 0;bottom: 0;left: 50%;z-index: 0;}#sk-container-id-7 div.sk-serial {display: flex;flex-direction: column;align-items: center;background-color: white;padding-right: 0.2em;padding-left: 0.2em;position: relative;}#sk-container-id-7 div.sk-item {position: relative;z-index: 1;}#sk-container-id-7 div.sk-parallel {display: flex;align-items: stretch;justify-content: center;background-color: white;position: relative;}#sk-container-id-7 div.sk-item::before, #sk-container-id-7 div.sk-parallel-item::before {content: \"\";position: absolute;border-left: 1px solid gray;box-sizing: border-box;top: 0;bottom: 0;left: 50%;z-index: -1;}#sk-container-id-7 div.sk-parallel-item {display: flex;flex-direction: column;z-index: 1;position: relative;background-color: white;}#sk-container-id-7 div.sk-parallel-item:first-child::after {align-self: flex-end;width: 50%;}#sk-container-id-7 div.sk-parallel-item:last-child::after {align-self: flex-start;width: 50%;}#sk-container-id-7 div.sk-parallel-item:only-child::after {width: 0;}#sk-container-id-7 div.sk-dashed-wrapped {border: 1px dashed gray;margin: 0 0.4em 0.5em 0.4em;box-sizing: border-box;padding-bottom: 0.4em;background-color: white;}#sk-container-id-7 div.sk-label label {font-family: monospace;font-weight: bold;display: inline-block;line-height: 1.2em;}#sk-container-id-7 div.sk-label-container {text-align: center;}#sk-container-id-7 div.sk-container {/* jupyter's `normalize.less` sets `[hidden] { display: none; }` but bootstrap.min.css set `[hidden] { display: none !important; }` so we also need the `!important` here to be able to override the default hidden behavior on the sphinx rendered scikit-learn.org. See: https://github.com/scikit-learn/scikit-learn/issues/21755 */display: inline-block !important;position: relative;}#sk-container-id-7 div.sk-text-repr-fallback {display: none;}</style><div id=\"sk-container-id-7\" class=\"sk-top-container\"><div class=\"sk-text-repr-fallback\"><pre>Pipeline(steps=[(&#x27;columntransformer&#x27;,\n",
              "                 ColumnTransformer(transformers=[(&#x27;standardscaler&#x27;,\n",
              "                                                  StandardScaler(),\n",
              "                                                  [&#x27;track_energy&#x27;, &#x27;track_key&#x27;,\n",
              "                                                   &#x27;track_loudness&#x27;,\n",
              "                                                   &#x27;track_mode&#x27;,\n",
              "                                                   &#x27;track_speechiness&#x27;,\n",
              "                                                   &#x27;track_liveness&#x27;,\n",
              "                                                   &#x27;track_valence&#x27;,\n",
              "                                                   &#x27;track_tempo&#x27;,\n",
              "                                                   &#x27;track_duration_ms&#x27;])])),\n",
              "                (&#x27;kneighborsregressor&#x27;, KNeighborsRegressor(n_neighbors=6))])</pre><b>In a Jupyter environment, please rerun this cell to show the HTML representation or trust the notebook. <br />On GitHub, the HTML representation is unable to render, please try loading this page with nbviewer.org.</b></div><div class=\"sk-container\" hidden><div class=\"sk-item sk-dashed-wrapped\"><div class=\"sk-label-container\"><div class=\"sk-label sk-toggleable\"><input class=\"sk-toggleable__control sk-hidden--visually\" id=\"sk-estimator-id-31\" type=\"checkbox\" ><label for=\"sk-estimator-id-31\" class=\"sk-toggleable__label sk-toggleable__label-arrow\">Pipeline</label><div class=\"sk-toggleable__content\"><pre>Pipeline(steps=[(&#x27;columntransformer&#x27;,\n",
              "                 ColumnTransformer(transformers=[(&#x27;standardscaler&#x27;,\n",
              "                                                  StandardScaler(),\n",
              "                                                  [&#x27;track_energy&#x27;, &#x27;track_key&#x27;,\n",
              "                                                   &#x27;track_loudness&#x27;,\n",
              "                                                   &#x27;track_mode&#x27;,\n",
              "                                                   &#x27;track_speechiness&#x27;,\n",
              "                                                   &#x27;track_liveness&#x27;,\n",
              "                                                   &#x27;track_valence&#x27;,\n",
              "                                                   &#x27;track_tempo&#x27;,\n",
              "                                                   &#x27;track_duration_ms&#x27;])])),\n",
              "                (&#x27;kneighborsregressor&#x27;, KNeighborsRegressor(n_neighbors=6))])</pre></div></div></div><div class=\"sk-serial\"><div class=\"sk-item sk-dashed-wrapped\"><div class=\"sk-label-container\"><div class=\"sk-label sk-toggleable\"><input class=\"sk-toggleable__control sk-hidden--visually\" id=\"sk-estimator-id-32\" type=\"checkbox\" ><label for=\"sk-estimator-id-32\" class=\"sk-toggleable__label sk-toggleable__label-arrow\">columntransformer: ColumnTransformer</label><div class=\"sk-toggleable__content\"><pre>ColumnTransformer(transformers=[(&#x27;standardscaler&#x27;, StandardScaler(),\n",
              "                                 [&#x27;track_energy&#x27;, &#x27;track_key&#x27;, &#x27;track_loudness&#x27;,\n",
              "                                  &#x27;track_mode&#x27;, &#x27;track_speechiness&#x27;,\n",
              "                                  &#x27;track_liveness&#x27;, &#x27;track_valence&#x27;,\n",
              "                                  &#x27;track_tempo&#x27;, &#x27;track_duration_ms&#x27;])])</pre></div></div></div><div class=\"sk-parallel\"><div class=\"sk-parallel-item\"><div class=\"sk-item\"><div class=\"sk-label-container\"><div class=\"sk-label sk-toggleable\"><input class=\"sk-toggleable__control sk-hidden--visually\" id=\"sk-estimator-id-33\" type=\"checkbox\" ><label for=\"sk-estimator-id-33\" class=\"sk-toggleable__label sk-toggleable__label-arrow\">standardscaler</label><div class=\"sk-toggleable__content\"><pre>[&#x27;track_energy&#x27;, &#x27;track_key&#x27;, &#x27;track_loudness&#x27;, &#x27;track_mode&#x27;, &#x27;track_speechiness&#x27;, &#x27;track_liveness&#x27;, &#x27;track_valence&#x27;, &#x27;track_tempo&#x27;, &#x27;track_duration_ms&#x27;]</pre></div></div></div><div class=\"sk-serial\"><div class=\"sk-item\"><div class=\"sk-estimator sk-toggleable\"><input class=\"sk-toggleable__control sk-hidden--visually\" id=\"sk-estimator-id-34\" type=\"checkbox\" ><label for=\"sk-estimator-id-34\" class=\"sk-toggleable__label sk-toggleable__label-arrow\">StandardScaler</label><div class=\"sk-toggleable__content\"><pre>StandardScaler()</pre></div></div></div></div></div></div></div></div><div class=\"sk-item\"><div class=\"sk-estimator sk-toggleable\"><input class=\"sk-toggleable__control sk-hidden--visually\" id=\"sk-estimator-id-35\" type=\"checkbox\" ><label for=\"sk-estimator-id-35\" class=\"sk-toggleable__label sk-toggleable__label-arrow\">KNeighborsRegressor</label><div class=\"sk-toggleable__content\"><pre>KNeighborsRegressor(n_neighbors=6)</pre></div></div></div></div></div></div></div>"
            ]
          },
          "metadata": {},
          "execution_count": 30
        }
      ]
    },
    {
      "cell_type": "code",
      "source": [
        "df_cv_results_ = pd.DataFrame(grid_search.cv_results_)\n",
        "df_cv_results_[\"param_kneighborsregressor__n_neighbors\"] = df_cv_results_[\"param_kneighborsregressor__n_neighbors\"].astype(int)\n",
        "df_cv_results_.set_index(\"param_kneighborsregressor__n_neighbors\", inplace = True)\n",
        "(-df_cv_results_[\"mean_test_score\"]).plot.line(xlabel = \"k\", ylabel = \"test error\", title = \"kNN models with 9 features\")"
      ],
      "metadata": {
        "colab": {
          "base_uri": "https://localhost:8080/",
          "height": 507
        },
        "id": "uEF14qFhfXgZ",
        "outputId": "00f907f7-16bb-43c1-a6ce-e3d95fa0fdd7"
      },
      "execution_count": 33,
      "outputs": [
        {
          "output_type": "execute_result",
          "data": {
            "text/plain": [
              "<Axes: title={'center': 'kNN models with 9 features'}, xlabel='k', ylabel='test error'>"
            ]
          },
          "metadata": {},
          "execution_count": 33
        },
        {
          "output_type": "display_data",
          "data": {
            "text/plain": [
              "<Figure size 640x480 with 1 Axes>"
            ],
            "image/png": "[encoded data removed]"
          },
          "metadata": {}
        }
      ]
    },
    {
      "cell_type": "markdown",
      "source": [
        "The best number of neighbors is 6."
      ],
      "metadata": {
        "id": "R2jGDEihfnGN"
      }
    },
    {
      "cell_type": "markdown",
      "source": [
        "## Training the Model"
      ],
      "metadata": {
        "id": "1qEm55oXiFkV"
      }
    },
    {
      "cell_type": "markdown",
      "source": [
        "Define the test and training set with the best features"
      ],
      "metadata": {
        "id": "fyA6364dvgTi"
      }
    },
    {
      "cell_type": "code",
      "source": [
        "best_features = ['track_energy', 'track_key', 'track_loudness', 'track_mode', 'track_speechiness', 'track_liveness', 'track_valence', 'track_tempo', 'track_duration_ms']\n",
        "k = 6\n",
        "\n",
        "X_train = df_merged[df_merged[\"Year\"] != \"2020\"][best_features]\n",
        "X_test = df_merged[df_merged[\"Year\"] == \"2020\"][best_features]\n",
        "y_train = df_merged[df_merged[\"Year\"] != \"2020\"][\"GDP\"]\n",
        "y_test = df_merged[df_merged[\"Year\"] == \"2020\"][\"GDP\"]\n"
      ],
      "metadata": {
        "id": "jGt-p6DyiHxA"
      },
      "execution_count": 44,
      "outputs": []
    },
    {
      "cell_type": "code",
      "source": [
        "y_train"
      ],
      "metadata": {
        "colab": {
          "base_uri": "https://localhost:8080/"
        },
        "id": "vPgNgXka9tmN",
        "outputId": "9b945234-8079-49d2-fc80-26fc8b80e517"
      },
      "execution_count": 54,
      "outputs": [
        {
          "output_type": "execute_result",
          "data": {
            "text/plain": [
              "0      14613.035649\n",
              "1      11795.162745\n",
              "2       9963.674162\n",
              "4      53954.553495\n",
              "5      57273.520475\n",
              "           ...     \n",
              "177    62823.309438\n",
              "178    65120.394663\n",
              "180    18995.397020\n",
              "181    19026.049817\n",
              "182    18098.361549\n",
              "Name: GDP, Length: 138, dtype: float64"
            ]
          },
          "metadata": {},
          "execution_count": 54
        }
      ]
    },
    {
      "cell_type": "markdown",
      "source": [
        "Fit the KNN model to the features"
      ],
      "metadata": {
        "id": "4vOY1BhVvonb"
      }
    },
    {
      "cell_type": "code",
      "source": [
        "ct = make_column_transformer(\n",
        "    (StandardScaler(), best_features),\n",
        "    remainder=\"drop\"\n",
        ")\n",
        "\n",
        "pipeline = make_pipeline(\n",
        "    ct,\n",
        "    KNeighborsRegressor(n_neighbors=k)\n",
        ")\n",
        "pipeline.fit(X_train, y_train)"
      ],
      "metadata": {
        "colab": {
          "base_uri": "https://localhost:8080/",
          "height": 188
        },
        "id": "iKzQSv_NuQZK",
        "outputId": "bea443c9-8fb8-4732-9abd-ab9c7bf8c184"
      },
      "execution_count": 45,
      "outputs": [
        {
          "output_type": "execute_result",
          "data": {
            "text/plain": [
              "Pipeline(steps=[('columntransformer',\n",
              "                 ColumnTransformer(transformers=[('standardscaler',\n",
              "                                                  StandardScaler(),\n",
              "                                                  ['track_energy', 'track_key',\n",
              "                                                   'track_loudness',\n",
              "                                                   'track_mode',\n",
              "                                                   'track_speechiness',\n",
              "                                                   'track_liveness',\n",
              "                                                   'track_valence',\n",
              "                                                   'track_tempo',\n",
              "                                                   'track_duration_ms'])])),\n",
              "                ('kneighborsregressor', KNeighborsRegressor(n_neighbors=6))])"
            ],
            "text/html": [
              "<style>#sk-container-id-8 {color: black;background-color: white;}#sk-container-id-8 pre{padding: 0;}#sk-container-id-8 div.sk-toggleable {background-color: white;}#sk-container-id-8 label.sk-toggleable__label {cursor: pointer;display: block;width: 100%;margin-bottom: 0;padding: 0.3em;box-sizing: border-box;text-align: center;}#sk-container-id-8 label.sk-toggleable__label-arrow:before {content: \"▸\";float: left;margin-right: 0.25em;color: #696969;}#sk-container-id-8 label.sk-toggleable__label-arrow:hover:before {color: black;}#sk-container-id-8 div.sk-estimator:hover label.sk-toggleable__label-arrow:before {color: black;}#sk-container-id-8 div.sk-toggleable__content {max-height: 0;max-width: 0;overflow: hidden;text-align: left;background-color: #f0f8ff;}#sk-container-id-8 div.sk-toggleable__content pre {margin: 0.2em;color: black;border-radius: 0.25em;background-color: #f0f8ff;}#sk-container-id-8 input.sk-toggleable__control:checked~div.sk-toggleable__content {max-height: 200px;max-width: 100%;overflow: auto;}#sk-container-id-8 input.sk-toggleable__control:checked~label.sk-toggleable__label-arrow:before {content: \"▾\";}#sk-container-id-8 div.sk-estimator input.sk-toggleable__control:checked~label.sk-toggleable__label {background-color: #d4ebff;}#sk-container-id-8 div.sk-label input.sk-toggleable__control:checked~label.sk-toggleable__label {background-color: #d4ebff;}#sk-container-id-8 input.sk-hidden--visually {border: 0;clip: rect(1px 1px 1px 1px);clip: rect(1px, 1px, 1px, 1px);height: 1px;margin: -1px;overflow: hidden;padding: 0;position: absolute;width: 1px;}#sk-container-id-8 div.sk-estimator {font-family: monospace;background-color: #f0f8ff;border: 1px dotted black;border-radius: 0.25em;box-sizing: border-box;margin-bottom: 0.5em;}#sk-container-id-8 div.sk-estimator:hover {background-color: #d4ebff;}#sk-container-id-8 div.sk-parallel-item::after {content: \"\";width: 100%;border-bottom: 1px solid gray;flex-grow: 1;}#sk-container-id-8 div.sk-label:hover label.sk-toggleable__label {background-color: #d4ebff;}#sk-container-id-8 div.sk-serial::before {content: \"\";position: absolute;border-left: 1px solid gray;box-sizing: border-box;top: 0;bottom: 0;left: 50%;z-index: 0;}#sk-container-id-8 div.sk-serial {display: flex;flex-direction: column;align-items: center;background-color: white;padding-right: 0.2em;padding-left: 0.2em;position: relative;}#sk-container-id-8 div.sk-item {position: relative;z-index: 1;}#sk-container-id-8 div.sk-parallel {display: flex;align-items: stretch;justify-content: center;background-color: white;position: relative;}#sk-container-id-8 div.sk-item::before, #sk-container-id-8 div.sk-parallel-item::before {content: \"\";position: absolute;border-left: 1px solid gray;box-sizing: border-box;top: 0;bottom: 0;left: 50%;z-index: -1;}#sk-container-id-8 div.sk-parallel-item {display: flex;flex-direction: column;z-index: 1;position: relative;background-color: white;}#sk-container-id-8 div.sk-parallel-item:first-child::after {align-self: flex-end;width: 50%;}#sk-container-id-8 div.sk-parallel-item:last-child::after {align-self: flex-start;width: 50%;}#sk-container-id-8 div.sk-parallel-item:only-child::after {width: 0;}#sk-container-id-8 div.sk-dashed-wrapped {border: 1px dashed gray;margin: 0 0.4em 0.5em 0.4em;box-sizing: border-box;padding-bottom: 0.4em;background-color: white;}#sk-container-id-8 div.sk-label label {font-family: monospace;font-weight: bold;display: inline-block;line-height: 1.2em;}#sk-container-id-8 div.sk-label-container {text-align: center;}#sk-container-id-8 div.sk-container {/* jupyter's `normalize.less` sets `[hidden] { display: none; }` but bootstrap.min.css set `[hidden] { display: none !important; }` so we also need the `!important` here to be able to override the default hidden behavior on the sphinx rendered scikit-learn.org. See: https://github.com/scikit-learn/scikit-learn/issues/21755 */display: inline-block !important;position: relative;}#sk-container-id-8 div.sk-text-repr-fallback {display: none;}</style><div id=\"sk-container-id-8\" class=\"sk-top-container\"><div class=\"sk-text-repr-fallback\"><pre>Pipeline(steps=[(&#x27;columntransformer&#x27;,\n",
              "                 ColumnTransformer(transformers=[(&#x27;standardscaler&#x27;,\n",
              "                                                  StandardScaler(),\n",
              "                                                  [&#x27;track_energy&#x27;, &#x27;track_key&#x27;,\n",
              "                                                   &#x27;track_loudness&#x27;,\n",
              "                                                   &#x27;track_mode&#x27;,\n",
              "                                                   &#x27;track_speechiness&#x27;,\n",
              "                                                   &#x27;track_liveness&#x27;,\n",
              "                                                   &#x27;track_valence&#x27;,\n",
              "                                                   &#x27;track_tempo&#x27;,\n",
              "                                                   &#x27;track_duration_ms&#x27;])])),\n",
              "                (&#x27;kneighborsregressor&#x27;, KNeighborsRegressor(n_neighbors=6))])</pre><b>In a Jupyter environment, please rerun this cell to show the HTML representation or trust the notebook. <br />On GitHub, the HTML representation is unable to render, please try loading this page with nbviewer.org.</b></div><div class=\"sk-container\" hidden><div class=\"sk-item sk-dashed-wrapped\"><div class=\"sk-label-container\"><div class=\"sk-label sk-toggleable\"><input class=\"sk-toggleable__control sk-hidden--visually\" id=\"sk-estimator-id-36\" type=\"checkbox\" ><label for=\"sk-estimator-id-36\" class=\"sk-toggleable__label sk-toggleable__label-arrow\">Pipeline</label><div class=\"sk-toggleable__content\"><pre>Pipeline(steps=[(&#x27;columntransformer&#x27;,\n",
              "                 ColumnTransformer(transformers=[(&#x27;standardscaler&#x27;,\n",
              "                                                  StandardScaler(),\n",
              "                                                  [&#x27;track_energy&#x27;, &#x27;track_key&#x27;,\n",
              "                                                   &#x27;track_loudness&#x27;,\n",
              "                                                   &#x27;track_mode&#x27;,\n",
              "                                                   &#x27;track_speechiness&#x27;,\n",
              "                                                   &#x27;track_liveness&#x27;,\n",
              "                                                   &#x27;track_valence&#x27;,\n",
              "                                                   &#x27;track_tempo&#x27;,\n",
              "                                                   &#x27;track_duration_ms&#x27;])])),\n",
              "                (&#x27;kneighborsregressor&#x27;, KNeighborsRegressor(n_neighbors=6))])</pre></div></div></div><div class=\"sk-serial\"><div class=\"sk-item sk-dashed-wrapped\"><div class=\"sk-label-container\"><div class=\"sk-label sk-toggleable\"><input class=\"sk-toggleable__control sk-hidden--visually\" id=\"sk-estimator-id-37\" type=\"checkbox\" ><label for=\"sk-estimator-id-37\" class=\"sk-toggleable__label sk-toggleable__label-arrow\">columntransformer: ColumnTransformer</label><div class=\"sk-toggleable__content\"><pre>ColumnTransformer(transformers=[(&#x27;standardscaler&#x27;, StandardScaler(),\n",
              "                                 [&#x27;track_energy&#x27;, &#x27;track_key&#x27;, &#x27;track_loudness&#x27;,\n",
              "                                  &#x27;track_mode&#x27;, &#x27;track_speechiness&#x27;,\n",
              "                                  &#x27;track_liveness&#x27;, &#x27;track_valence&#x27;,\n",
              "                                  &#x27;track_tempo&#x27;, &#x27;track_duration_ms&#x27;])])</pre></div></div></div><div class=\"sk-parallel\"><div class=\"sk-parallel-item\"><div class=\"sk-item\"><div class=\"sk-label-container\"><div class=\"sk-label sk-toggleable\"><input class=\"sk-toggleable__control sk-hidden--visually\" id=\"sk-estimator-id-38\" type=\"checkbox\" ><label for=\"sk-estimator-id-38\" class=\"sk-toggleable__label sk-toggleable__label-arrow\">standardscaler</label><div class=\"sk-toggleable__content\"><pre>[&#x27;track_energy&#x27;, &#x27;track_key&#x27;, &#x27;track_loudness&#x27;, &#x27;track_mode&#x27;, &#x27;track_speechiness&#x27;, &#x27;track_liveness&#x27;, &#x27;track_valence&#x27;, &#x27;track_tempo&#x27;, &#x27;track_duration_ms&#x27;]</pre></div></div></div><div class=\"sk-serial\"><div class=\"sk-item\"><div class=\"sk-estimator sk-toggleable\"><input class=\"sk-toggleable__control sk-hidden--visually\" id=\"sk-estimator-id-39\" type=\"checkbox\" ><label for=\"sk-estimator-id-39\" class=\"sk-toggleable__label sk-toggleable__label-arrow\">StandardScaler</label><div class=\"sk-toggleable__content\"><pre>StandardScaler()</pre></div></div></div></div></div></div></div></div><div class=\"sk-item\"><div class=\"sk-estimator sk-toggleable\"><input class=\"sk-toggleable__control sk-hidden--visually\" id=\"sk-estimator-id-40\" type=\"checkbox\" ><label for=\"sk-estimator-id-40\" class=\"sk-toggleable__label sk-toggleable__label-arrow\">KNeighborsRegressor</label><div class=\"sk-toggleable__content\"><pre>KNeighborsRegressor(n_neighbors=6)</pre></div></div></div></div></div></div></div>"
            ]
          },
          "metadata": {},
          "execution_count": 45
        }
      ]
    },
    {
      "cell_type": "markdown",
      "source": [
        "Cross Validate the pipeline"
      ],
      "metadata": {
        "id": "aaH6nEnKvt0p"
      }
    },
    {
      "cell_type": "code",
      "source": [
        "scores = -cross_val_score(pipeline,\n",
        "                         X_train,\n",
        "                         y_train,\n",
        "                         scoring=\"neg_root_mean_squared_error\",\n",
        "                         cv=5)\n",
        "scores.mean()"
      ],
      "metadata": {
        "colab": {
          "base_uri": "https://localhost:8080/"
        },
        "id": "FyrojkWEvb64",
        "outputId": "527dd9b8-2d46-4192-f27d-5f089b04b74a"
      },
      "execution_count": 47,
      "outputs": [
        {
          "output_type": "execute_result",
          "data": {
            "text/plain": [
              "17840.01854456281"
            ]
          },
          "metadata": {},
          "execution_count": 47
        }
      ]
    },
    {
      "cell_type": "markdown",
      "source": [
        "Benchmark"
      ],
      "metadata": {
        "id": "wWmJHVcG8NsW"
      }
    },
    {
      "cell_type": "code",
      "source": [
        "y_train.std()"
      ],
      "metadata": {
        "colab": {
          "base_uri": "https://localhost:8080/"
        },
        "id": "GAdAcnOY79ki",
        "outputId": "9b955690-99ae-4c78-dfac-441035e1b5cf"
      },
      "execution_count": 48,
      "outputs": [
        {
          "output_type": "execute_result",
          "data": {
            "text/plain": [
              "24142.88680878906"
            ]
          },
          "metadata": {},
          "execution_count": 48
        }
      ]
    },
    {
      "cell_type": "markdown",
      "source": [
        "In comparison to the benchmark, the cross validation pipeline did considerably better."
      ],
      "metadata": {
        "id": "ti90sc6V8PVN"
      }
    },
    {
      "cell_type": "markdown",
      "source": [
        "## Comparing to the test set"
      ],
      "metadata": {
        "id": "maH-z4Xg88Tr"
      }
    },
    {
      "cell_type": "code",
      "source": [
        "y_prediction = pipeline.predict(X_test)"
      ],
      "metadata": {
        "id": "Pyi2Mt-n9Bd3"
      },
      "execution_count": 55,
      "outputs": []
    },
    {
      "cell_type": "code",
      "source": [
        "from sklearn.metrics import mean_squared_error\n",
        "\n",
        "rmse = np.sqrt(mean_squared_error(y_test, y_prediction))\n",
        "rmse"
      ],
      "metadata": {
        "colab": {
          "base_uri": "https://localhost:8080/"
        },
        "id": "_51DGNk49TdP",
        "outputId": "ac75bbff-bd21-4a0d-e6fa-f3b077201fdf"
      },
      "execution_count": 57,
      "outputs": [
        {
          "output_type": "execute_result",
          "data": {
            "text/plain": [
              "20179.28006515973"
            ]
          },
          "metadata": {},
          "execution_count": 57
        }
      ]
    },
    {
      "cell_type": "code",
      "source": [
        "y_test.std()"
      ],
      "metadata": {
        "colab": {
          "base_uri": "https://localhost:8080/"
        },
        "id": "uDfcNHg19j0P",
        "outputId": "03ae61bb-5a10-4aac-86ca-35865879a98e"
      },
      "execution_count": 58,
      "outputs": [
        {
          "output_type": "execute_result",
          "data": {
            "text/plain": [
              "24095.638492192124"
            ]
          },
          "metadata": {},
          "execution_count": 58
        }
      ]
    },
    {
      "cell_type": "markdown",
      "source": [
        "In comparison to the test set, our prediction model does not do significantly better than the standard deviation in predicting the GDP."
      ],
      "metadata": {
        "id": "Fhj2y58Y-Wih"
      }
    }
  ]
}